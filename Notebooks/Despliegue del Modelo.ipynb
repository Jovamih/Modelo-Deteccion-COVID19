{
 "cells": [
  {
   "attachments": {},
   "cell_type": "markdown",
   "metadata": {},
   "source": [
    "* Para que el modelo sea de utilidad para los organizaciones y  para poder probarla para demostrar su eficacia, desplegamos el modelo a produccion. Para ello evaluamos las siguientes plataformas en la nube tomando en cuenta **CRITERIOS DE SERVICIOS DE DISPONIBILIDAD GRATUITA PARA APLICACIONES WEB** para el despliegue de modelos a producción.\n",
    "\n",
    "  |Plataforma| Modo gratuito|Servicio|Limite de peso de archivo | Disponibilidad limite| Viable|Observacion|\n",
    "  |----------|--------------|--------|------------------|-------------------|---------|----|\n",
    "  | Azure    | SI           | Azure Web Apps |         1GB      | 1 Hora de CPU/Dia   |NO|\n",
    "  | GCP    | SI           | TFX|         1GB      | 3 Meses de disponibilidad gratuita   |NO|\n",
    "  | AWS    | SI           | Elastic Beanstack|         512MB      | Free/ilimitada   |SI|La implementacion dificil|\n",
    "  | Heroku    | SI           | Create App|         512MB      | Free/ilimitada   |SI|El modelo pesaba mucho |\n",
    " |  **Streamlit Sharing**    |  **SI**           |  **Deploy app**|   **null**|  **Free/ilimitada** | **SI**| **Plataforma escogida**|\n",
    "\n",
    "\n",
    "* Una vez escogida la plataforma procedemos a implementar la aplicacion a traves de los marcos de trabajo de streamlit, una plataforma para compartir aplicaciones de ciencia de datos de manera sencilla.\n",
    "\n",
    "\n",
    "![Image](captura_github.png)\n",
    "\n",
    "* El link de mi repositorio: **https://github.com/Jovamih/Covid19DetectorApp**\n",
    "\n",
    "\n",
    "Y por ultimo y no menos importante algunas indicaciones para usar la aplicacion.\n",
    "\n",
    "1. Cargar la imagen de la radiografia de pulmones.\n",
    "2. Visualizar los resultados asociados, tanto como la probabilidad de diagnostico de cada enfermedad como tambien el verdicto final.\n",
    "3. ... Si quieres mas funcionalidades y posibles mejoras para el modelo, sugiero mandarme un feedback\n",
    "\n",
    "![Image web](captura_web.png)\n",
    "\n",
    "\n",
    "\n",
    "\n",
    "## Acerca del autor: \n",
    "\n",
    "### Johan valerio Mitma Huaccha. 20 años. Perú.\n",
    "\n",
    "* En dedicatoria a mi madre. **Isabel Huaccha  Fernandez**.\n",
    "\n",
    "\n",
    "Feliz ciencia de datos, feliz machine learning. Gracias por llegar al final de este laborioso trabajo de ciencia de datos."
   ]
  }
 ],
 "metadata": {
  "kernelspec": {
   "display_name": "Python 3",
   "language": "python",
   "name": "python3"
  },
  "language_info": {
   "codemirror_mode": {
    "name": "ipython",
    "version": 3
   },
   "file_extension": ".py",
   "mimetype": "text/x-python",
   "name": "python",
   "nbconvert_exporter": "python",
   "pygments_lexer": "ipython3",
   "version": "3.8.5"
  }
 },
 "nbformat": 4,
 "nbformat_minor": 4
}
