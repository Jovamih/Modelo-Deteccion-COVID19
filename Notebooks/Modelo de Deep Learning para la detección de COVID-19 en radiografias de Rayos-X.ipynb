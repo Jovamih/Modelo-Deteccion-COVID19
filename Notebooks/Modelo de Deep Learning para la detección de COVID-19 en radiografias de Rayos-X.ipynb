{
 "cells": [
  {
   "cell_type": "markdown",
   "metadata": {},
   "source": [
    "**Autor:** Mitma Huaccha, Johan Valerio.\n",
    "\n",
    "# Estado de arte\n",
    "\n",
    "* La fuente de informacion y banco de imagenes corresponden a los creditos de los siguientes autores, reflejados en los dos siguientes articulos.\n",
    "\n",
    "- M.E.H. Chowdhury, T. Rahman, A. Khandakar, R. Mazhar, M.A. Kadir, Z.B. Mahbub, K.R. Islam, M.S. Khan, A. Iqbal, N. Al-Emadi, M.B.I. Reaz, M. T. Islam, “Can AI help in screening Viral and COVID-19 pneumonia?” IEEE Access, Vol. 8, 2020, pp. 132665 - 132676.\n",
    "- Rahman, T., Khandakar, A., Qiblawey, Y., Tahir, A., Kiranyaz, S., Kashem, S.B.A., Islam, M.T., Maadeed, S.A., Zughaier, S.M., Khan, M.S. and Chowdhury, M.E., 2020. Exploring the Effect of Image Enhancement Techniques on COVID-19 Detection using Chest X-ray Images. arXiv preprint arXiv:2012.02238.\n",
    "\n",
    "# Metodologia CRISP-DM\n",
    "\n",
    "* Este proyecto personal buscar brindar un modelo para detectar el COVID-19 y servir como prototipo para un futuro sistema de detección medico.\n",
    "\n",
    "    * **Lenguaje utilizado**: Python.\n",
    "    * **Librerias principales**: Scikit-Learn, Tensorflow,Keras, glob, Keras-Tuner.\n",
    "    * **Deploy**: Aplicacion web.\n",
    "    * **Metodologia**: Aplicacion de la metodologia de mineria de datos **CRISP-DM**.\n",
    "    \n",
    "![imagen_sistema_esquema.png](imagen_sistema_esquema.png)\n",
    "\n",
    "### COMPRENSIÓN DEL NEGOCIO\n",
    "\n",
    "\n",
    "* El proposito de esta fase es alinear los objetivos de la mineria de datos con los objetivos del negocio, a fin de evitar el inicio de un proyecto que no cause ningun beneficio a la organizacion.\n",
    "\n",
    "* **Panorama actual**: Una organizacion hospitalaria desea mejorar su precision de deteccion de covid-19 en pacientes y tener un sistema de descarte del virus en caso no cuenten con pruebas moleculares o rapidas, para poder se analizadas en el laboratorio de medicina general.\n",
    "\n",
    "    * **Establecer los objetivos del Negocio**: Poseer un sistema que agilice el descarte inmediato de los pacientes con sospechas de **covid-19** a fin de evaluar en una segunda fase el tratamiento de dichos pacientes, y liberar al personal de atencion ante sospechas innecesarias.\n",
    "    * **Evaluar la situacion actual**: El hospital no tiene un sistema de descarte inmediato de covid por radiografias, ademas en un posible escenario donde no cuenten con pruebas rapidas o moleculares, no poseen otro metodo mas eficiente para descartar dichas enfermedad.\n",
    "    * **Objetivos a nivel mineria de datos**: Contar con un sistema para clasificar las radiografias de rayos-x de pacientes sospechosos de covid-19 empleando inteligencia artificial.\n",
    "    * **Elaboracion de un plan de proyecto(* )** : Una vez establecidos y alineados los objetivos del data mining se procede a elaborar un proyecto que cuente con tareas,actividades y checkpoints. (*) El encargado de realizar el proyecto es un persona individual (Me).\n",
    "   \n",
    "![Crisp DM Process diagram](CRISP-DM_ProcessDiagram.png)"
   ]
  }
 ],
 "metadata": {
  "kernelspec": {
   "display_name": "Python 3",
   "language": "python",
   "name": "python3"
  },
  "language_info": {
   "codemirror_mode": {
    "name": "ipython",
    "version": 3
   },
   "file_extension": ".py",
   "mimetype": "text/x-python",
   "name": "python",
   "nbconvert_exporter": "python",
   "pygments_lexer": "ipython3",
   "version": "3.8.5"
  }
 },
 "nbformat": 4,
 "nbformat_minor": 4
}
