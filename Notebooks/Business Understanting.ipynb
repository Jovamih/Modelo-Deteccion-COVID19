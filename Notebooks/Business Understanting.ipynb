{
 "cells": [
  {
   "cell_type": "markdown",
   "metadata": {},
   "source": [
    "# Modelo de Deep Learning para la detección de COVID-19 en radiografias de Rayos-X\n",
    "\n",
    "* Este proyecto personal buscar brindar un modelo para detectar el COVID-19 y servir como prototipo para un futuro sistema de detección medico.\n",
    "\n",
    "    * **Lenguaje utilizado**: Python.\n",
    "    * **Librerias principales**: Scikit-Learn, Tensorflow,Keras, glob, Keras-Tuner.\n",
    "    * **Deploy**: Aplicacion web.\n",
    "    * **Metodologia**: Aplicacion de la metodologia de mineria de datos **CRISP-DM**.\n",
    "    \n",
    "![imagen_sistema_esquema.png](imagen_sistema_esquema.png)\n",
    "\n",
    "### COMPRENSIÓN DEL NEGOCIO\n",
    "\n",
    "\n",
    "* El proposito de esta fase es alinear los objetivos de la mineria de datos con los objetivos del negocio, a fin de evitar el inicio de un proyecto que no cause ningun beneficio a la organizacion.\n",
    "\n",
    "* **Panorama actual**: Una organizacion hospitalaria desea mejorar su precision de deteccion de covid-19 en pacientes y tener un sistema de descarte del virus en caso no cuenten con pruebas moleculares o rapidas, para poder se analizadas en el laboratorio de medicina general.\n",
    "\n",
    "    * **Establecer los objetivos del Negocio**: Poseer un sistema que agilice el descarte inmediato de los pacientes con sospechas de **covid-19** a fin de evaluar en una segunda fase el tratamiento de dichos pacientes, y liberar al personal de atencion ante sospechas innecesarias.\n",
    "    * **Evaluar la situacion actual**: El hospital no tiene un sistema de descarte inmediato de covid por radiografias, ademas en un posible escenario donde no cuenten con pruebas rapidas o moleculares, no poseen otro metodo mas eficiente para descartar dichas enfermedad.\n",
    "    * **Objetivos a nivel mineria de datos**: Contar con un sistema para clasificar las radiografias de rayos-x de pacientes sospechosos de covid-19 empleando inteligencia artificial.\n",
    "    * **Elaboracion de un plan de proyecto(*)** : Una vez establecidos y alineados los objetivos del data mining se procede a elaborar un proyecto que cuente con tareas,actividades y checkpoints. (*) El encargado de realizar el proyecto es un persona individual (Me).\n",
    "   \n",
    "![Crisp DM Process diagram](CRISP-DM_ProcessDiagram.png)"
   ]
  }
 ],
 "metadata": {
  "kernelspec": {
   "display_name": "Python 3",
   "language": "python",
   "name": "python3"
  },
  "language_info": {
   "codemirror_mode": {
    "name": "ipython",
    "version": 3
   },
   "file_extension": ".py",
   "mimetype": "text/x-python",
   "name": "python",
   "nbconvert_exporter": "python",
   "pygments_lexer": "ipython3",
   "version": "3.8.5"
  }
 },
 "nbformat": 4,
 "nbformat_minor": 4
}
